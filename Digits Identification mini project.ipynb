{
 "cells": [
  {
   "cell_type": "code",
   "execution_count": null,
   "id": "8b1294d1",
   "metadata": {},
   "outputs": [],
   "source": [
    "#1. Add the Input Convolutional Layer\n",
    "from keras.layers import Conv2D\n",
    "model.add(Conv2D(28, (3, 3), input_shape=(28, 28, 1), activation='relu'))\n",
    "\n",
    "#2. Add a Pooling Layer\n",
    "from keras.layers import MaxPooling2D\n",
    "model.add(MaxPooling2D(pool_size=(2, 2)))\n",
    "\n",
    "#3. Add a Flattening Layer\n",
    "from keras.layers import Flatten\n",
    "model.add(Flatten())\n",
    "\n",
    "#4. Add a Fully Connected Layer\n",
    "from keras.layers import Dense\n",
    "model.add(Dense(units=128, activation='relu'))\n",
    "\n",
    "#5. Build the Convolutional Neural Network (CNN)\n",
    "model.compile(optimizer='adam', loss='sparse_categorical_crossentropy', metrics=['accuracy'])\n",
    "\n",
    "#6. Train the Convolutional Neural Network (CNN)\n",
    "model.fit(x_train, y_train, epochs=10)\n",
    "\n",
    "#7. Test the Convolutional Neural Network (CNN)\n",
    "loss, accuracy = model.evaluate(x_test, y_test)"
   ]
  }
 ],
 "metadata": {
  "kernelspec": {
   "display_name": "Python 3 (ipykernel)",
   "language": "python",
   "name": "python3"
  },
  "language_info": {
   "codemirror_mode": {
    "name": "ipython",
    "version": 3
   },
   "file_extension": ".py",
   "mimetype": "text/x-python",
   "name": "python",
   "nbconvert_exporter": "python",
   "pygments_lexer": "ipython3",
   "version": "3.11.5"
  }
 },
 "nbformat": 4,
 "nbformat_minor": 5
}
